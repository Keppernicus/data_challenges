{
 "cells": [
  {
   "cell_type": "code",
   "execution_count": 2,
   "metadata": {},
   "outputs": [],
   "source": [
    "# Followed some tutorials from geeksforgeeks and the Easy Machine Learning channel on youtube.\n",
    "import cv2\n",
    "import numpy as np"
   ]
  },
  {
   "cell_type": "code",
   "execution_count": null,
   "metadata": {},
   "outputs": [],
   "source": [
    "filepath = \"filepath\\\\dog.jpg\"\n",
    "dog = cv2.imread(filepath)\n",
    "dog.shape\n",
    "# check the image first\n",
    "cv2.imshow(\"doggo\", dog)\n",
    "cv2.waitKey(0)\n",
    "cv2.destroyAllWindows()"
   ]
  },
  {
   "cell_type": "code",
   "execution_count": 9,
   "metadata": {},
   "outputs": [],
   "source": [
    "grayscale_dog = cv2.cvtColor(dog, cv2.COLOR_BGR2GRAY)\n",
    "#a bit repetive, but we need to make sure things are working appropriately\n",
    "cv2.imshow(\"doggo\", grayscale_dog)\n",
    "cv2.waitKey(0)\n",
    "cv2.destroyAllWindows()\n",
    "\n",
    "gray_inverse = 255 - grayscale_dog\n",
    "cv2.imshow(\"doggo\", gray_inverse)\n",
    "cv2.waitKey(0)\n",
    "cv2.destroyAllWindows()\n"
   ]
  },
  {
   "cell_type": "code",
   "execution_count": 12,
   "metadata": {},
   "outputs": [],
   "source": [
    "# Without a slider\n",
    "\n",
    "blur = cv2.GaussianBlur(gray_inverse, (101, 101), 0)\n",
    "final_sketch = cv2.divide(grayscale_dog, 255 - blur, scale=256)\n",
    "final_sketch = cv2.cvtColor(final_sketch, cv2.COLOR_GRAY2BGR)\n",
    "cv2.imshow(\"doggo\", final_sketch)\n",
    "cv2.waitKey(0)\n",
    "cv2.destroyAllWindows()"
   ]
  },
  {
   "cell_type": "code",
   "execution_count": null,
   "metadata": {},
   "outputs": [],
   "source": [
    "# With a slider from the tutorial on the Easy Machine Learning youtube channel.\n",
    "\n",
    "# Empty function for the trackbar\n",
    "def nothing(x):\n",
    "    pass\n",
    "\n",
    "# Name the window\n",
    "cv2.namedWindow(\"Trackbar\")\n",
    "cv2.createTrackbar(\"ksize\", \"Trackbar\", 7, 100, nothing)\n",
    "\n",
    "while True:\n",
    "    ksize = cv2.getTrackbarPos(\"ksize\", \"Trackbar\")\n",
    "    if ksize % 2 == 0:\n",
    "        ksize += 1\n",
    "\n",
    "    blur = cv2.GaussianBlur(gray_inverse, (ksize, ksize), 0)\n",
    "    final_sketch = cv2.divide(grayscale_dog, 255 - blur, scale=256)\n",
    "    final_sketch = cv2.cvtColor(final_sketch, cv2.COLOR_GRAY2BGR)\n",
    "    # cv2.putText(result, f\"Ksize: {str(ksize)}\", (10, 40), cv2.FONT_HERSHEY_SIMPLEX,\n",
    "    #             1, (0, 0, 255), 2)\n",
    "    cv2.imshow(\"Original\", dog) #show the original\n",
    "    cv2.imshow(\"Result\", final_sketch) #show the sketch with the slider\n",
    "    if cv2.waitKey(1) == ord('q'): # press q to close the windows\n",
    "        break\n",
    "\n",
    "cv2.destroyAllWindows()"
   ]
  },
  {
   "cell_type": "code",
   "execution_count": null,
   "metadata": {},
   "outputs": [],
   "source": []
  }
 ],
 "metadata": {
  "kernelspec": {
   "display_name": "Python 3",
   "language": "python",
   "name": "python3"
  },
  "language_info": {
   "codemirror_mode": {
    "name": "ipython",
    "version": 3
   },
   "file_extension": ".py",
   "mimetype": "text/x-python",
   "name": "python",
   "nbconvert_exporter": "python",
   "pygments_lexer": "ipython3",
   "version": "3.10.2"
  }
 },
 "nbformat": 4,
 "nbformat_minor": 2
}
