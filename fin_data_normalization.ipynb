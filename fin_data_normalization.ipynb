{
 "cells": [
  {
   "cell_type": "markdown",
   "metadata": {},
   "source": [
    "### Financial data normalization"
   ]
  },
  {
   "cell_type": "code",
   "execution_count": 2,
   "metadata": {},
   "outputs": [],
   "source": [
    "class FinDataNormalizer:\n",
    "    def __init__(self, data):\n",
    "        \"\"\"\n",
    "        Initialize with raw data.\n",
    "        \n",
    "        Parameters:\n",
    "        data (dict): Dictionary containing financial data from whatever source\n",
    "        \"\"\"\n",
    "        self.data = data\n",
    "        self.standardized_data = {}\n",
    "        \n",
    "        # Mapping dictionary to standardize various attribute names\n",
    "        self.mapping = {\n",
    "            \"ticker\": [\"ticker\", \"symbol\", \"stock_symbol\", \"asset_code\"],\n",
    "            \"date\": [\"date\", \"timestamp\", \"trade_date\", \"report_date\", \"datetime\", \"date_key\"],\n",
    "            \"open\": [\"open\", \"open_price\", \"opening\", \"start_price\"],\n",
    "            \"close\": [\"close\", \"closing_price\", \"end_price\", \"price_close\", \"price\"],\n",
    "            \"high\": [\"high\", \"high_price\", \"day_high\"],\n",
    "            \"low\": [\"low\", \"low_price\", \"day_low\"],\n",
    "            \"volume\": [\"volume\", \"trade_volume\", \"shares_traded\", \"turnover\", \"volume_traded\"],\n",
    "            \"dividends\": [\"dividends\", \"dividend_amount\", \"dividend_per_share\", \"cash_dividend\"],\n",
    "            \"splits\": [\"splits\", \"split_ratio\", \"stock_split_ratio\", \"split_factor\", \"adjustment_factor\"],\n",
    "            \"dimension\": [\"dimension\", \"reporting_period\", \"time_frame\", \"period_type\", \"frequency\", \"interval\"],\n",
    "            \"datekey\": [\"datekey\", \"date_key\", \"financial_date\", \"statement_date\"],\n",
    "            \"revenue\": [\"revenue\", \"total_revenue\", \"sales\", \"gross_revenue\"],\n",
    "            \"netinc\": [\"netinc\", \"net_income\", \"net_profit\", \"earnings\"],\n",
    "            \"eps\": [\"eps\", \"earnings_per_share\", \"eps_basic\", \"eps_diluted\", \"net_eps\"],\n",
    "            \"assets\": [\"assets\", \"total_assets\", \"asset_value\"],\n",
    "            \"liabilities\": [\"liabilities\", \"total_liabilities\", \"liability_amount\"],\n",
    "            \"equity\": [\"equity\", \"shareholders_equity\", \"equity_value\"],\n",
    "            \"cashneq\": [\"cashneq\", \"cash_and_equivalents\", \"cash_on_hand\", \"liquid_assets\"],\n",
    "            \"debt\": [\"debt\", \"total_debt\", \"outstanding_debt\", \"liabilities\"],\n",
    "            \"option_symbol\": [\"option_symbol\", \"contract_symbol\", \"option_id\"],\n",
    "            \"underlying_symbol\": [\"underlying_symbol\", \"underlying_asset\", \"underlying_stock\", \"base_symbol\"],\n",
    "            \"expiration_date\": [\"expiration_date\", \"expiry\", \"maturity_date\", \"exp_date\"],\n",
    "            \"strike_price\": [\"strike_price\", \"strike\", \"strike_rate\", \"option_strike\"],\n",
    "            \"option_type\": [\"option_type\", \"contract_type\", \"type\"],\n",
    "            \"last_trade_price\": [\"last_trade_price\", \"last_price\", \"recent_trade_price\"],\n",
    "            \"bid\": [\"bid\", \"current_bid\", \"bid_price\"],\n",
    "            \"ask\": [\"ask\", \"current_ask\", \"ask_price\"],\n",
    "            \"open_interest\": [\"open_interest\", \"oi\", \"open_contracts\"],\n",
    "            \"implied_volatility\": [\"implied_volatility\", \"iv\", \"imp_volatility\", \"volatility_percentage\"],\n",
    "            \"fiscal_period\": [\"fiscal_period\", \"fiscal_quarter\", \"reporting_period\", \"estimation_period\"],\n",
    "            \"estimate_eps\": [\"estimate_eps\", \"estimated_eps\", \"expected_eps\"],\n",
    "            \"actual_eps\": [\"actual_eps\", \"reported_eps\", \"actual_earnings\"],\n",
    "            \"surprise\": [\"surprise\", \"earnings_surprise\", \"eps_difference\"],\n",
    "            \"announcement_date\": [\"announcement_date\", \"release_date\", \"report_date\", \"earnings_date\"],\n",
    "            \"country\": [\"country\", \"nation\", \"region\"],\n",
    "            \"indicator\": [\"indicator\", \"indicator_name\", \"economic_indicator\", \"metric\"],\n",
    "            \"value\": [\"value\", \"data_value\", \"amount\", \"indicator_value\"],\n",
    "            \"units\": [\"units\", \"measurement_units\", \"unit_type\", \"unit\"],\n",
    "            \"frequency\": [\"frequency\", \"interval\", \"periodicity\", \"data_frequency\", \"freq\"],\n",
    "            \"commodity\": [\"commodity\", \"commodity_name\", \"asset\", \"product\"],\n",
    "            \"price\": [\"price\", \"close_price\", \"commodity_price\", \"market_price\"],\n",
    "            \"currency\": [\"currency\", \"currency_code\", \"quote_currency\", \"cur\"]\n",
    "        }\n",
    "        \n",
    "    def normalize(self):\n",
    "        \"\"\"\n",
    "        Normalize the input data to a standardized format.\n",
    "        \"\"\"\n",
    "        unmatched_keys = set(self.data.keys())  # Track all keys in the input data.\n",
    "\n",
    "        for standard_key, aliases in self.mapping.items():\n",
    "            for alias in aliases:\n",
    "                if alias in self.data:\n",
    "                    self.standardized_data[standard_key] = self.data[alias]\n",
    "                    unmatched_keys.discard(alias)  # Remove matched key from the set.\n",
    "                    break\n",
    "\n",
    "        # Print any unmatched keys as an error.\n",
    "        if unmatched_keys:\n",
    "            for key in unmatched_keys:\n",
    "                print(f\"Error: '{key}' is not a recognized field.\")\n",
    "                \n",
    "        return self.standardized_data"
   ]
  },
  {
   "cell_type": "code",
   "execution_count": 3,
   "metadata": {},
   "outputs": [
    {
     "name": "stdout",
     "output_type": "stream",
     "text": [
      "{'ticker': 'AAPL', 'date': '2024-11-01', 'open': 175.0, 'close': 180.0, 'high': 182.5, 'low': 173.0, 'volume': 1000000, 'dividends': 0.82}\n"
     ]
    }
   ],
   "source": [
    "#Run something like normalizer = FinancialDataNormalizer(raw_data) then normalized_data - normalizer.normalize()\n",
    "#Here's an example\n",
    "raw_data = {\n",
    "    \"symbol\": \"AAPL\",\n",
    "    \"trade_date\": \"2024-11-01\",\n",
    "    \"open_price\": 175.0,\n",
    "    \"closing_price\": 180.0,\n",
    "    \"high_price\": 182.5,\n",
    "    \"low_price\": 173.0,\n",
    "    \"trade_volume\": 1000000,\n",
    "    \"dividend_amount\": 0.82,\n",
    "}\n",
    "\n",
    "# Initialize and normalize\n",
    "normalizer = FinDataNormalizer(raw_data)\n",
    "normalized_data = normalizer.normalize()\n",
    "\n",
    "# Print the normalized data\n",
    "print(normalized_data)"
   ]
  }
 ],
 "metadata": {
  "kernelspec": {
   "display_name": "Python 3",
   "language": "python",
   "name": "python3"
  },
  "language_info": {
   "codemirror_mode": {
    "name": "ipython",
    "version": 3
   },
   "file_extension": ".py",
   "mimetype": "text/x-python",
   "name": "python",
   "nbconvert_exporter": "python",
   "pygments_lexer": "ipython3",
   "version": "3.10.2"
  }
 },
 "nbformat": 4,
 "nbformat_minor": 2
}
