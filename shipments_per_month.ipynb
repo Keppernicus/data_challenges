{
 "cells": [
  {
   "cell_type": "markdown",
   "metadata": {},
   "source": [
    "### Get the Number of Shipments Per Month\n",
    "#### From the StrataScratch challenge with Pandas"
   ]
  },
  {
   "cell_type": "code",
   "execution_count": null,
   "metadata": {},
   "outputs": [],
   "source": [
    "# Import your libraries\n",
    "import pandas as pd\n",
    "\n",
    "# get the data from the csv\n",
    "amazon_shipment = pd.read_csv('amazon_shipment_records.csv')\n",
    "\n",
    "# format the new month column\n",
    "amazon_shipment['year_month'] = amazon_shipment['shipment_date'].dt.strftime('%Y-%m')\n",
    "\n",
    "# sort the df\n",
    "amazon_shipment_sorted_desc = amazon_shipment.sort_values(by='year_month', ascending=True)\n",
    "\n",
    "# get the value counts for shipments per month\n",
    "shipments_per_month = amazon_shipment['year_month'].value_counts().reset_index()\n",
    "\n",
    "# create a column for the values\n",
    "shipments_per_month.columns = ['year_month', 'count']\n",
    "\n",
    "# The output wants the month as a string\n",
    "shipments_per_month['year_month'] = shipments_per_month['year_month'].astype(str)\n",
    "\n",
    "# The final result\n",
    "shipments_per_month"
   ]
  }
 ],
 "metadata": {
  "kernelspec": {
   "display_name": "Python 3",
   "language": "python",
   "name": "python3"
  },
  "language_info": {
   "codemirror_mode": {
    "name": "ipython",
    "version": 3
   },
   "file_extension": ".py",
   "mimetype": "text/x-python",
   "name": "python",
   "nbconvert_exporter": "python",
   "pygments_lexer": "ipython3",
   "version": "3.10.2"
  }
 },
 "nbformat": 4,
 "nbformat_minor": 2
}
